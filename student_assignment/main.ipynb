{
 "cells": [
  {
   "attachments": {},
   "cell_type": "markdown",
   "metadata": {},
   "source": [
    " Q1: Load the dataset \"student_data.csv\" into a NumPy array, using np.genfromtxt."
   ]
  },
  {
   "cell_type": "code",
   "execution_count": 59,
   "metadata": {},
   "outputs": [],
   "source": [
    "import numpy as np\n",
    "\n",
    "# Load the data from a CSV file\n",
    "student_data = np.array(np.genfromtxt('./data/student_data.csv', delimiter=',', names=True, dtype=None, encoding='utf-8'))\n"
   ]
  },
  {
   "attachments": {},
   "cell_type": "markdown",
   "metadata": {},
   "source": [
    "Q2: Calculate the following statistics for the student data:"
   ]
  },
  {
   "cell_type": "code",
   "execution_count": 60,
   "metadata": {},
   "outputs": [
    {
     "name": "stdout",
     "output_type": "stream",
     "text": [
      "1. The average test score of all students is 70.0\n",
      "2. The minimum test score achieved is 40 and the maximum is 99\n",
      "3. The standard deviation of study hours is 2.5660085736411715 or 2.57\n"
     ]
    }
   ],
   "source": [
    "# Q2.1: Average test score.\n",
    "avg_test_score = np.mean(student_data['TestScore'])\n",
    "\n",
    "print(f'1. The average test score of all students is {avg_test_score}')\n",
    "\n",
    "# Q2.2: Minimum and maximum test scores.\n",
    "# Get the minimum and maximum test scores\n",
    "min_test_score = np.min(student_data['TestScore'])\n",
    "max_test_score = np.max(student_data['TestScore'])\n",
    "\n",
    "# Print he minimum and maximum test scores to the console with formatting\n",
    "print(f'2. The minimum test score achieved is {min_test_score} and the maximum is {max_test_score}')\n",
    "\n",
    "# Q2.3: Standard deviation of study hours.\n",
    "# Get the standard deviation of study hours\n",
    "std_study_hours = np.std(student_data['StudyHours'])\n",
    "\n",
    "print(f'3. The standard deviation of study hours is {std_study_hours} or {std_study_hours:.2f}')"
   ]
  },
  {
   "attachments": {},
   "cell_type": "markdown",
   "metadata": {},
   "source": [
    "Q3: Find the students who achieved the highest test scores."
   ]
  },
  {
   "cell_type": "code",
   "execution_count": 61,
   "metadata": {},
   "outputs": [
    {
     "name": "stdout",
     "output_type": "stream",
     "text": [
      "4. The students who achieved the highest test scores are: [82, 109, 128, 168]\n"
     ]
    }
   ],
   "source": [
    "# Find the student ids of the students with the highest test scores\n",
    "highest_students = np.array(np.argwhere(student_data['TestScore'] == np.max(student_data['TestScore'])))\n",
    "\n",
    "# Extract the IDs of the highest-scoring students\n",
    "student_ids = student_data['StudentID'][highest_students]\n",
    "\n",
    "# Extract the individual indices of the highest-scoring students\n",
    "students_who_achieved_hts =  [int(idx[0]) for idx in student_ids]\n",
    "\n",
    "# Print the minimum and maximum test scores to the console with formatting\n",
    "print(f'4. The students who achieved the highest test scores are: {students_who_achieved_hts}')"
   ]
  },
  {
   "attachments": {},
   "cell_type": "markdown",
   "metadata": {},
   "source": [
    "Q4: Find the age and test score of the youngest student."
   ]
  },
  {
   "cell_type": "code",
   "execution_count": 62,
   "metadata": {},
   "outputs": [
    {
     "name": "stdout",
     "output_type": "stream",
     "text": [
      "5. The test score of the youngest student, aged 18, is: 51\n"
     ]
    }
   ],
   "source": [
    "# Find the index of the youngest student\n",
    "youngest_std_idx = np.argmin(student_data['Age'])\n",
    "\n",
    "# Get the age and test score of the youngest student\n",
    "youngest_std_age = student_data['Age'][youngest_std_idx] \n",
    "youngest_std_test_score = student_data['TestScore'][youngest_std_idx] \n",
    "\n",
    "# Print the age and test score of the youngest student to the console with formatting\n",
    "print(f'5. The test score of the youngest student, aged {youngest_std_age}, is: {youngest_std_test_score}')"
   ]
  },
  {
   "attachments": {},
   "cell_type": "markdown",
   "metadata": {},
   "source": [
    "Q5: Filter the dataset to include only female students and save it as a new file named \"female_students.csv\"."
   ]
  },
  {
   "cell_type": "code",
   "execution_count": 63,
   "metadata": {},
   "outputs": [
    {
     "name": "stdout",
     "output_type": "stream",
     "text": [
      "6. The dataset for female students has been saved as female_students.csv.\n"
     ]
    }
   ],
   "source": [
    "# Create a boolean mask for female students\n",
    "filtered_female = student_data['Gender'] == 'Female'\n",
    "\n",
    "# Filter the student data to include only female students\n",
    "female_data = student_data[filtered_female]\n",
    "\n",
    "# Create the filtered data to a new CSV file\n",
    "np.savetxt('female_students.csv', female_data, delimiter=',', fmt='%s', header=','.join(female_data.dtype.names))\n",
    "\n",
    "print(f'6. The dataset for female students has been saved as female_students.csv.')"
   ]
  },
  {
   "attachments": {},
   "cell_type": "markdown",
   "metadata": {},
   "source": [
    "Q6: Calculate the average study hours for male students."
   ]
  },
  {
   "cell_type": "code",
   "execution_count": 64,
   "metadata": {},
   "outputs": [
    {
     "name": "stdout",
     "output_type": "stream",
     "text": [
      "7. On average, male students study for 4.58 hours.\n"
     ]
    }
   ],
   "source": [
    "# Create a boolean mask for male students\n",
    "filtered_male = student_data['Gender'] == 'Male'\n",
    "\n",
    "# Filter the student data to include only male students\n",
    "male_data = student_data[filtered_male]\n",
    "\n",
    "avg_study_hours_for_male = np.mean(male_data['StudyHours'])\n",
    "\n",
    "# Print the average study hours for male students to the console with formatting\n",
    "print(f'7. On average, male students study for {avg_study_hours_for_male} hours.')"
   ]
  },
  {
   "attachments": {},
   "cell_type": "markdown",
   "metadata": {},
   "source": [
    "Q7: Calculate the percentage of students who passed the test (grade >= 60). See if you can draw any conclusions from this information."
   ]
  },
  {
   "cell_type": "code",
   "execution_count": 65,
   "metadata": {},
   "outputs": [
    {
     "name": "stdout",
     "output_type": "stream",
     "text": [
      "8. 130 of students passed the test, indicating 65.0%.\n"
     ]
    }
   ],
   "source": [
    "# Calculate the percentage of students who passed the test (grade >= 60)\n",
    "passing_percentage = 100 * np.sum(student_data['TestScore'] >= 60) / len(student_data['TestScore'])\n",
    "\n",
    "# Get the total of students who passed the test (grade >= 60)\n",
    "total_passing_students= np.argwhere(student_data['TestScore'] >= 60)\n",
    "\n",
    "# Print the percentage of students who passed the test (grade >= 60) to the console with formatting\n",
    "print(f'8. {np.size(total_passing_students)} of students passed the test, indicating {passing_percentage}%.')"
   ]
  },
  {
   "attachments": {},
   "cell_type": "markdown",
   "metadata": {},
   "source": [
    "Q8: Visualize the distribution of test scores using a histogram."
   ]
  },
  {
   "cell_type": "code",
   "execution_count": 66,
   "metadata": {},
   "outputs": [
    {
     "data": {
      "image/png": "[encoded data removed]",
      "text/plain": [
       "<Figure size 640x480 with 1 Axes>"
      ]
     },
     "metadata": {},
     "output_type": "display_data"
    }
   ],
   "source": [
    "scores = np.array(student_data['TestScore'])\n",
    "\n",
    "plt.hist(scores, bins=10, width=5)\n",
    "\n",
    "plt.xlabel('Test Scores')\n",
    "plt.ylabel('Frequency')\n",
    "plt.title('Distribution of Test Scores')\n",
    "\n",
    "plt.show()"
   ]
  }
 ],
 "metadata": {
  "kernelspec": {
   "display_name": "Python 3",
   "language": "python",
   "name": "python3"
  },
  "language_info": {
   "codemirror_mode": {
    "name": "ipython",
    "version": 3
   },
   "file_extension": ".py",
   "mimetype": "text/x-python",
   "name": "python",
   "nbconvert_exporter": "python",
   "pygments_lexer": "ipython3",
   "version": "3.11.3"
  },
  "orig_nbformat": 4
 },
 "nbformat": 4,
 "nbformat_minor": 2
}
